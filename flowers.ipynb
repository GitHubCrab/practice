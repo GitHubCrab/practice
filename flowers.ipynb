{
 "cells": [
  {
   "cell_type": "code",
   "execution_count": 2,
   "id": "d61dc935",
   "metadata": {},
   "outputs": [],
   "source": [
    "import os\n",
    "import tensorflow_datasets as tfds\n",
    "import tensorflow as tf\n",
    "\n",
    "import pathlib"
   ]
  },
  {
   "cell_type": "code",
   "execution_count": 3,
   "id": "d49b9ccc",
   "metadata": {},
   "outputs": [],
   "source": [
    "\n",
    "_CITATION = \"\"\"\\\n",
    "@ONLINE {tfflowers,\n",
    "author = \"The TensorFlow Team\",\n",
    "title = \"Flowers\",\n",
    "month = \"jan\",\n",
    "year = \"2019\",\n",
    "url = \"http://download.tensorflow.org/example_images/flower_photos.tgz\" }\n",
    "\"\"\""
   ]
  },
  {
   "cell_type": "code",
   "execution_count": 4,
   "id": "75120863",
   "metadata": {},
   "outputs": [],
   "source": [
    "_URL = \"http://download.tensorflow.org/example_images/flower_photos.tgz\""
   ]
  },
  {
   "cell_type": "code",
   "execution_count": 5,
   "id": "051ac9f7",
   "metadata": {},
   "outputs": [],
   "source": [
    "class TFFlowers(tfds.core.GeneratorBasedBuilder):\n",
    "  \"\"\"Flowers dataset.\"\"\"\n",
    "\n",
    "  VERSION = tfds.core.Version(\"3.0.1\")\n",
    "\n",
    "  def _info(self):\n",
    "    return tfds.core.DatasetInfo(\n",
    "        builder=self,\n",
    "        description=\"A large set of images of flowers\",\n",
    "        features=tfds.features.FeaturesDict({\n",
    "            \"image\":\n",
    "                tfds.features.Image(),\n",
    "            \"label\":\n",
    "                tfds.features.ClassLabel(names=[\n",
    "                    \"dandelion\", \"daisy\", \"tulips\", \"sunflowers\", \"roses\"\n",
    "                ]),\n",
    "        }),\n",
    "        supervised_keys=(\"image\", \"label\"),\n",
    "        homepage=\"https://www.tensorflow.org/tutorials/load_data/images\",\n",
    "        citation=_CITATION)\n",
    "\n",
    "  def _split_generators(self, dl_manager):\n",
    "        \n",
    "    data_dir = tf.keras.utils.get_file(origin=_URL,\n",
    "                                       fname='flower_photos',\n",
    "                                       untar=True,\n",
    "                                       cache_dir = \"tensorflow_datasets\")\n",
    "    data_dir = pathlib.Path(data_dir)\n",
    "        \n",
    "    #path_download = dl_manager.download(_URL)\n",
    "    #ExPth = \"tensorflow_datasets\\downloads\\downl.tenso.org_examp_image_flowe_photoTFSs55Ear_4To2XDT2UOcd1b8b4KWLRk5acYPj5ZXZw.tgz\"\n",
    "    #path_extract = dl_manager.extract(ExPth)\n",
    "    \n",
    "    data_dir = pathlib.Path(\"tensorflow_datasets/datasets/flower_photos\")\n",
    "    image_count = len(list(data_dir.glob('*/*.jpg')))\n",
    "    print(image_count,\" images downloaded!\")\n",
    "\n",
    "    \n",
    "    batch_size = 32\n",
    "    img_height = 180\n",
    "    img_width = 180\n",
    "    \n",
    "    train_ds = tf.keras.utils.image_dataset_from_directory(\n",
    "      data_dir,\n",
    "      validation_split=0.2,\n",
    "      subset=\"training\",\n",
    "      seed=123,\n",
    "      image_size=(img_height, img_width),\n",
    "      batch_size=batch_size)\n",
    "    \n",
    "    val_ds = tf.keras.utils.image_dataset_from_directory(\n",
    "      data_dir,\n",
    "      validation_split=0.2,\n",
    "      subset=\"validation\",\n",
    "      seed=123,\n",
    "      image_size=(img_height, img_width),\n",
    "      batch_size=batch_size)\n",
    "    \n",
    "    return [train_ds,val_ds]\n",
    "\n",
    "  def _generate_examples(self, images_dir_path):\n",
    "    \"\"\"Generate flower images and labels given the image directory path.\n",
    "    Args:\n",
    "      images_dir_path: path to the directory where the images are stored.\n",
    "    Yields:\n",
    "      The image path and its corresponding label.\n",
    "    \"\"\"\n",
    "    for fname, fobj in images_dir_path:\n",
    "      if fname.endswith(\".jpg\"):\n",
    "        image_dir, image_file = os.path.split(fname)\n",
    "        d = os.path.basename(image_dir)\n",
    "        record = {\"image\": fobj, \"label\": d.lower()}\n",
    "        yield \"%s/%s\" % (d, image_file), record"
   ]
  },
  {
   "cell_type": "code",
   "execution_count": 6,
   "id": "14c32152",
   "metadata": {},
   "outputs": [],
   "source": [
    "ClassObject = TFFlowers()"
   ]
  },
  {
   "cell_type": "code",
   "execution_count": 7,
   "id": "ead92f13",
   "metadata": {},
   "outputs": [
    {
     "data": {
      "text/plain": [
       "tfds.core.DatasetInfo(\n",
       "    name='tf_flowers',\n",
       "    full_name='tf_flowers/3.0.1',\n",
       "    description=\"\"\"\n",
       "    A large set of images of flowers\n",
       "    \"\"\",\n",
       "    homepage='https://www.tensorflow.org/tutorials/load_data/images',\n",
       "    data_path='C:\\\\Users\\\\aleks\\\\tensorflow_datasets\\\\tf_flowers\\\\3.0.1',\n",
       "    download_size=Unknown size,\n",
       "    dataset_size=Unknown size,\n",
       "    features=FeaturesDict({\n",
       "        'image': Image(shape=(None, None, 3), dtype=tf.uint8),\n",
       "        'label': ClassLabel(shape=(), dtype=tf.int64, num_classes=5),\n",
       "    }),\n",
       "    supervised_keys=('image', 'label'),\n",
       "    disable_shuffling=False,\n",
       "    splits={\n",
       "    },\n",
       "    citation=\"\"\"@ONLINE {tfflowers,\n",
       "    author = \"The TensorFlow Team\",\n",
       "    title = \"Flowers\",\n",
       "    month = \"jan\",\n",
       "    year = \"2019\",\n",
       "    url = \"http://download.tensorflow.org/example_images/flower_photos.tgz\" }\"\"\",\n",
       ")"
      ]
     },
     "execution_count": 7,
     "metadata": {},
     "output_type": "execute_result"
    }
   ],
   "source": [
    "ClassObject._info()"
   ]
  },
  {
   "cell_type": "code",
   "execution_count": 8,
   "id": "062e5403",
   "metadata": {},
   "outputs": [],
   "source": [
    "import tensorflow_datasets.core.download.download_manager as dl_manager\n",
    "manager = dl_manager.DownloadManager(download_dir='tensorflow_datasets\\datasets')"
   ]
  },
  {
   "cell_type": "code",
   "execution_count": 9,
   "id": "726e2505",
   "metadata": {},
   "outputs": [
    {
     "name": "stdout",
     "output_type": "stream",
     "text": [
      "3670  images downloaded!\n",
      "Found 3670 files belonging to 5 classes.\n",
      "Using 2936 files for training.\n",
      "Found 3670 files belonging to 5 classes.\n",
      "Using 734 files for validation.\n"
     ]
    }
   ],
   "source": [
    "DataSets = ClassObject._split_generators(manager)"
   ]
  },
  {
   "cell_type": "code",
   "execution_count": 10,
   "id": "3ccd922a",
   "metadata": {},
   "outputs": [],
   "source": [
    "train_ds = DataSets[0]\n",
    "val_ds = DataSets[1]"
   ]
  },
  {
   "cell_type": "code",
   "execution_count": 11,
   "id": "c7e596f9",
   "metadata": {},
   "outputs": [
    {
     "name": "stdout",
     "output_type": "stream",
     "text": [
      "['daisy', 'dandelion', 'roses', 'sunflowers', 'tulips']\n"
     ]
    }
   ],
   "source": [
    "class_names = train_ds.class_names\n",
    "print(class_names)"
   ]
  },
  {
   "cell_type": "code",
   "execution_count": 12,
   "id": "0eb5e3ec",
   "metadata": {},
   "outputs": [],
   "source": [
    "normalization_layer = tf.keras.layers.Rescaling(1./255)"
   ]
  },
  {
   "cell_type": "code",
   "execution_count": 13,
   "id": "67db5ad8",
   "metadata": {},
   "outputs": [
    {
     "name": "stdout",
     "output_type": "stream",
     "text": [
      "0.0 1.0\n"
     ]
    }
   ],
   "source": [
    "import numpy as np\n",
    "normalized_ds = train_ds.map(lambda x, y: (normalization_layer(x), y))\n",
    "image_batch, labels_batch = next(iter(normalized_ds))\n",
    "first_image = image_batch[0]\n",
    "print(np.min(first_image), np.max(first_image))"
   ]
  },
  {
   "cell_type": "code",
   "execution_count": 14,
   "id": "9aa229f3",
   "metadata": {},
   "outputs": [],
   "source": [
    "num_classes = 5\n",
    "\n",
    "model = tf.keras.Sequential([\n",
    "  tf.keras.layers.Rescaling(1./255),\n",
    "  tf.keras.layers.Conv2D(32, 3, activation='relu'),\n",
    "  tf.keras.layers.MaxPooling2D(),\n",
    "  tf.keras.layers.Flatten(),\n",
    "  tf.keras.layers.Dense(128, activation='relu'),\n",
    "  tf.keras.layers.Dense(num_classes)\n",
    "])"
   ]
  },
  {
   "cell_type": "code",
   "execution_count": 15,
   "id": "3683e35f",
   "metadata": {},
   "outputs": [],
   "source": [
    "model.compile(\n",
    "  optimizer='adam',\n",
    "  loss=tf.losses.SparseCategoricalCrossentropy(from_logits=True),\n",
    "  metrics=['accuracy'])"
   ]
  },
  {
   "cell_type": "code",
   "execution_count": 16,
   "id": "d7b2c8e6",
   "metadata": {},
   "outputs": [
    {
     "name": "stdout",
     "output_type": "stream",
     "text": [
      "Epoch 1/10\n",
      "92/92 [==============================] - 46s 482ms/step - loss: 5.9174 - accuracy: 0.4138 - val_loss: 1.1637 - val_accuracy: 0.5422\n",
      "Epoch 2/10\n",
      "92/92 [==============================] - 44s 476ms/step - loss: 0.9798 - accuracy: 0.6270 - val_loss: 1.0749 - val_accuracy: 0.5886\n",
      "Epoch 3/10\n",
      "92/92 [==============================] - 44s 475ms/step - loss: 0.6236 - accuracy: 0.7922 - val_loss: 1.2911 - val_accuracy: 0.5395\n",
      "Epoch 4/10\n",
      "92/92 [==============================] - 43s 470ms/step - loss: 0.3448 - accuracy: 0.9050 - val_loss: 1.2459 - val_accuracy: 0.5763\n",
      "Epoch 5/10\n",
      "92/92 [==============================] - 43s 469ms/step - loss: 0.1889 - accuracy: 0.9584 - val_loss: 1.3185 - val_accuracy: 0.5613\n",
      "Epoch 6/10\n",
      "92/92 [==============================] - 43s 469ms/step - loss: 0.1085 - accuracy: 0.9785 - val_loss: 1.3286 - val_accuracy: 0.5586\n",
      "Epoch 7/10\n",
      "92/92 [==============================] - 44s 478ms/step - loss: 0.0514 - accuracy: 0.9932 - val_loss: 1.5393 - val_accuracy: 0.5640\n",
      "Epoch 8/10\n",
      "92/92 [==============================] - 44s 475ms/step - loss: 0.0268 - accuracy: 0.9969 - val_loss: 1.6322 - val_accuracy: 0.5477\n",
      "Epoch 9/10\n",
      "92/92 [==============================] - 44s 477ms/step - loss: 0.0165 - accuracy: 0.9993 - val_loss: 1.6414 - val_accuracy: 0.5749\n",
      "Epoch 10/10\n",
      "92/92 [==============================] - 43s 471ms/step - loss: 0.0106 - accuracy: 0.9993 - val_loss: 1.6953 - val_accuracy: 0.5627\n"
     ]
    },
    {
     "data": {
      "text/plain": [
       "<keras.callbacks.History at 0x2cd5d268730>"
      ]
     },
     "execution_count": 16,
     "metadata": {},
     "output_type": "execute_result"
    }
   ],
   "source": [
    "model.fit(\n",
    "  train_ds,\n",
    "  validation_data=val_ds,\n",
    "  epochs=10\n",
    ")"
   ]
  },
  {
   "cell_type": "code",
   "execution_count": null,
   "id": "229e1a78",
   "metadata": {},
   "outputs": [],
   "source": []
  }
 ],
 "metadata": {
  "kernelspec": {
   "display_name": "Python 3 (ipykernel)",
   "language": "python",
   "name": "python3"
  },
  "language_info": {
   "codemirror_mode": {
    "name": "ipython",
    "version": 3
   },
   "file_extension": ".py",
   "mimetype": "text/x-python",
   "name": "python",
   "nbconvert_exporter": "python",
   "pygments_lexer": "ipython3",
   "version": "3.8.10"
  }
 },
 "nbformat": 4,
 "nbformat_minor": 5
}
