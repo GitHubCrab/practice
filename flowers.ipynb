{
 "cells": [
  {
   "cell_type": "code",
   "execution_count": 1,
   "id": "2b1204af",
   "metadata": {
    "scrolled": true
   },
   "outputs": [
    {
     "name": "stdout",
     "output_type": "stream",
     "text": [
      "Requirement already satisfied: tensorflow in c:\\python\\lib\\site-packages (2.8.0)\n",
      "Requirement already satisfied: opt-einsum>=2.3.2 in c:\\python\\lib\\site-packages (from tensorflow) (3.3.0)\n",
      "Requirement already satisfied: tensorflow-io-gcs-filesystem>=0.23.1 in c:\\python\\lib\\site-packages (from tensorflow) (0.24.0)\n",
      "Requirement already satisfied: google-pasta>=0.1.1 in c:\\python\\lib\\site-packages (from tensorflow) (0.2.0)\n",
      "Requirement already satisfied: wrapt>=1.11.0 in c:\\python\\lib\\site-packages (from tensorflow) (1.14.0)\n",
      "Requirement already satisfied: keras<2.9,>=2.8.0rc0 in c:\\python\\lib\\site-packages (from tensorflow) (2.8.0)\n",
      "Requirement already satisfied: absl-py>=0.4.0 in c:\\python\\lib\\site-packages (from tensorflow) (1.0.0)\n",
      "Requirement already satisfied: numpy>=1.20 in c:\\python\\lib\\site-packages (from tensorflow) (1.22.3)\n",
      "Requirement already satisfied: setuptools in c:\\python\\lib\\site-packages (from tensorflow) (56.0.0)\n",
      "Requirement already satisfied: libclang>=9.0.1 in c:\\python\\lib\\site-packages (from tensorflow) (13.0.0)\n",
      "Requirement already satisfied: grpcio<2.0,>=1.24.3 in c:\\python\\lib\\site-packages (from tensorflow) (1.44.0)\n",
      "Requirement already satisfied: typing-extensions>=3.6.6 in c:\\python\\lib\\site-packages (from tensorflow) (4.1.1)\n",
      "Requirement already satisfied: astunparse>=1.6.0 in c:\\python\\lib\\site-packages (from tensorflow) (1.6.3)\n",
      "Requirement already satisfied: protobuf>=3.9.2 in c:\\python\\lib\\site-packages (from tensorflow) (3.19.4)\n",
      "Requirement already satisfied: tensorboard<2.9,>=2.8 in c:\\python\\lib\\site-packages (from tensorflow) (2.8.0)\n",
      "Requirement already satisfied: gast>=0.2.1 in c:\\python\\lib\\site-packages (from tensorflow) (0.5.3)\n",
      "Requirement already satisfied: six>=1.12.0 in c:\\python\\lib\\site-packages (from tensorflow) (1.16.0)\n",
      "Requirement already satisfied: keras-preprocessing>=1.1.1 in c:\\python\\lib\\site-packages (from tensorflow) (1.1.2)\n",
      "Requirement already satisfied: termcolor>=1.1.0 in c:\\python\\lib\\site-packages (from tensorflow) (1.1.0)\n",
      "Requirement already satisfied: flatbuffers>=1.12 in c:\\python\\lib\\site-packages (from tensorflow) (2.0)\n",
      "Requirement already satisfied: tf-estimator-nightly==2.8.0.dev2021122109 in c:\\python\\lib\\site-packages (from tensorflow) (2.8.0.dev2021122109)\n",
      "Requirement already satisfied: h5py>=2.9.0 in c:\\python\\lib\\site-packages (from tensorflow) (3.6.0)\n",
      "Requirement already satisfied: wheel<1.0,>=0.23.0 in c:\\python\\lib\\site-packages (from astunparse>=1.6.0->tensorflow) (0.37.1)\n",
      "Requirement already satisfied: google-auth-oauthlib<0.5,>=0.4.1 in c:\\python\\lib\\site-packages (from tensorboard<2.9,>=2.8->tensorflow) (0.4.6)\n",
      "Requirement already satisfied: google-auth<3,>=1.6.3 in c:\\python\\lib\\site-packages (from tensorboard<2.9,>=2.8->tensorflow) (2.6.0)\n",
      "Requirement already satisfied: markdown>=2.6.8 in c:\\python\\lib\\site-packages (from tensorboard<2.9,>=2.8->tensorflow) (3.3.6)\n",
      "Requirement already satisfied: tensorboard-plugin-wit>=1.6.0 in c:\\python\\lib\\site-packages (from tensorboard<2.9,>=2.8->tensorflow) (1.8.1)\n",
      "Requirement already satisfied: tensorboard-data-server<0.7.0,>=0.6.0 in c:\\python\\lib\\site-packages (from tensorboard<2.9,>=2.8->tensorflow) (0.6.1)\n",
      "Requirement already satisfied: requests<3,>=2.21.0 in c:\\python\\lib\\site-packages (from tensorboard<2.9,>=2.8->tensorflow) (2.27.1)\n",
      "Requirement already satisfied: werkzeug>=0.11.15 in c:\\python\\lib\\site-packages (from tensorboard<2.9,>=2.8->tensorflow) (2.0.3)\n",
      "Requirement already satisfied: rsa<5,>=3.1.4 in c:\\python\\lib\\site-packages (from google-auth<3,>=1.6.3->tensorboard<2.9,>=2.8->tensorflow) (4.8)\n",
      "Requirement already satisfied: cachetools<6.0,>=2.0.0 in c:\\python\\lib\\site-packages (from google-auth<3,>=1.6.3->tensorboard<2.9,>=2.8->tensorflow) (5.0.0)\n",
      "Requirement already satisfied: pyasn1-modules>=0.2.1 in c:\\python\\lib\\site-packages (from google-auth<3,>=1.6.3->tensorboard<2.9,>=2.8->tensorflow) (0.2.8)\n",
      "Requirement already satisfied: requests-oauthlib>=0.7.0 in c:\\python\\lib\\site-packages (from google-auth-oauthlib<0.5,>=0.4.1->tensorboard<2.9,>=2.8->tensorflow) (1.3.1)\n",
      "Requirement already satisfied: importlib-metadata>=4.4 in c:\\python\\lib\\site-packages (from markdown>=2.6.8->tensorboard<2.9,>=2.8->tensorflow) (4.11.3)\n",
      "Requirement already satisfied: zipp>=0.5 in c:\\python\\lib\\site-packages (from importlib-metadata>=4.4->markdown>=2.6.8->tensorboard<2.9,>=2.8->tensorflow) (3.7.0)\n",
      "Requirement already satisfied: pyasn1<0.5.0,>=0.4.6 in c:\\python\\lib\\site-packages (from pyasn1-modules>=0.2.1->google-auth<3,>=1.6.3->tensorboard<2.9,>=2.8->tensorflow) (0.4.8)\n",
      "Requirement already satisfied: certifi>=2017.4.17 in c:\\python\\lib\\site-packages (from requests<3,>=2.21.0->tensorboard<2.9,>=2.8->tensorflow) (2021.10.8)\n",
      "Requirement already satisfied: urllib3<1.27,>=1.21.1 in c:\\python\\lib\\site-packages (from requests<3,>=2.21.0->tensorboard<2.9,>=2.8->tensorflow) (1.26.8)\n",
      "Requirement already satisfied: idna<4,>=2.5 in c:\\python\\lib\\site-packages (from requests<3,>=2.21.0->tensorboard<2.9,>=2.8->tensorflow) (3.3)\n",
      "Requirement already satisfied: charset-normalizer~=2.0.0 in c:\\python\\lib\\site-packages (from requests<3,>=2.21.0->tensorboard<2.9,>=2.8->tensorflow) (2.0.12)\n",
      "Requirement already satisfied: oauthlib>=3.0.0 in c:\\python\\lib\\site-packages (from requests-oauthlib>=0.7.0->google-auth-oauthlib<0.5,>=0.4.1->tensorboard<2.9,>=2.8->tensorflow) (3.2.0)\n"
     ]
    },
    {
     "name": "stderr",
     "output_type": "stream",
     "text": [
      "WARNING: You are using pip version 21.1.1; however, version 22.0.4 is available.\n",
      "You should consider upgrading via the 'c:\\python\\python.exe -m pip install --upgrade pip' command.\n"
     ]
    },
    {
     "name": "stdout",
     "output_type": "stream",
     "text": [
      "Requirement already satisfied: tensorflow-datasets in c:\\python\\lib\\site-packages (4.5.2)\n",
      "Requirement already satisfied: six in c:\\python\\lib\\site-packages (from tensorflow-datasets) (1.16.0)\n",
      "Requirement already satisfied: tqdm in c:\\python\\lib\\site-packages (from tensorflow-datasets) (4.63.0)\n",
      "Requirement already satisfied: dill in c:\\python\\lib\\site-packages (from tensorflow-datasets) (0.3.4)\n",
      "Requirement already satisfied: numpy in c:\\python\\lib\\site-packages (from tensorflow-datasets) (1.22.3)\n",
      "Requirement already satisfied: absl-py in c:\\python\\lib\\site-packages (from tensorflow-datasets) (1.0.0)\n",
      "Requirement already satisfied: termcolor in c:\\python\\lib\\site-packages (from tensorflow-datasets) (1.1.0)\n",
      "Requirement already satisfied: importlib-resources in c:\\python\\lib\\site-packages (from tensorflow-datasets) (5.4.0)\n",
      "Requirement already satisfied: protobuf>=3.12.2 in c:\\python\\lib\\site-packages (from tensorflow-datasets) (3.19.4)\n",
      "Requirement already satisfied: requests>=2.19.0 in c:\\python\\lib\\site-packages (from tensorflow-datasets) (2.27.1)\n",
      "Requirement already satisfied: promise in c:\\python\\lib\\site-packages (from tensorflow-datasets) (2.3)\n",
      "Requirement already satisfied: tensorflow-metadata in c:\\python\\lib\\site-packages (from tensorflow-datasets) (1.7.0)\n",
      "Requirement already satisfied: charset-normalizer~=2.0.0 in c:\\python\\lib\\site-packages (from requests>=2.19.0->tensorflow-datasets) (2.0.12)\n",
      "Requirement already satisfied: idna<4,>=2.5 in c:\\python\\lib\\site-packages (from requests>=2.19.0->tensorflow-datasets) (3.3)\n",
      "Requirement already satisfied: certifi>=2017.4.17 in c:\\python\\lib\\site-packages (from requests>=2.19.0->tensorflow-datasets) (2021.10.8)\n",
      "Requirement already satisfied: urllib3<1.27,>=1.21.1 in c:\\python\\lib\\site-packages (from requests>=2.19.0->tensorflow-datasets) (1.26.8)\n",
      "Requirement already satisfied: zipp>=3.1.0 in c:\\python\\lib\\site-packages (from importlib-resources->tensorflow-datasets) (3.7.0)\n",
      "Requirement already satisfied: googleapis-common-protos<2,>=1.52.0 in c:\\python\\lib\\site-packages (from tensorflow-metadata->tensorflow-datasets) (1.55.0)\n",
      "Requirement already satisfied: colorama in c:\\python\\lib\\site-packages (from tqdm->tensorflow-datasets) (0.4.4)\n"
     ]
    },
    {
     "name": "stderr",
     "output_type": "stream",
     "text": [
      "WARNING: You are using pip version 21.1.1; however, version 22.0.4 is available.\n",
      "You should consider upgrading via the 'c:\\python\\python.exe -m pip install --upgrade pip' command.\n"
     ]
    }
   ],
   "source": [
    "import sys\n",
    "!{sys.executable} -m pip install tensorflow\n",
    "\n",
    "import sys\n",
    "!{sys.executable} -m pip install tensorflow-datasets"
   ]
  },
  {
   "cell_type": "code",
   "execution_count": 2,
   "id": "d61dc935",
   "metadata": {},
   "outputs": [],
   "source": [
    "import os\n",
    "import tensorflow_datasets as tfds\n",
    "import tensorflow as tf\n",
    "\n",
    "import pathlib"
   ]
  },
  {
   "cell_type": "code",
   "execution_count": 3,
   "id": "d49b9ccc",
   "metadata": {},
   "outputs": [],
   "source": [
    "\n",
    "_CITATION = \"\"\"\\\n",
    "@ONLINE {tfflowers,\n",
    "author = \"The TensorFlow Team\",\n",
    "title = \"Flowers\",\n",
    "month = \"jan\",\n",
    "year = \"2019\",\n",
    "url = \"http://download.tensorflow.org/example_images/flower_photos.tgz\" }\n",
    "\"\"\""
   ]
  },
  {
   "cell_type": "code",
   "execution_count": 4,
   "id": "75120863",
   "metadata": {},
   "outputs": [],
   "source": [
    "_URL = \"http://download.tensorflow.org/example_images/flower_photos.tgz\""
   ]
  },
  {
   "cell_type": "code",
   "execution_count": 5,
   "id": "051ac9f7",
   "metadata": {},
   "outputs": [],
   "source": [
    "class TFFlowers(tfds.core.GeneratorBasedBuilder):\n",
    "  \"\"\"Flowers dataset.\"\"\"\n",
    "\n",
    "  VERSION = tfds.core.Version(\"3.0.1\")\n",
    "\n",
    "  def _info(self):\n",
    "    return tfds.core.DatasetInfo(\n",
    "        builder=self,\n",
    "        description=\"A large set of images of flowers\",\n",
    "        features=tfds.features.FeaturesDict({\n",
    "            \"image\":\n",
    "                tfds.features.Image(),\n",
    "            \"label\":\n",
    "                tfds.features.ClassLabel(names=[\n",
    "                    \"dandelion\", \"daisy\", \"tulips\", \"sunflowers\", \"roses\"\n",
    "                ]),\n",
    "        }),\n",
    "        supervised_keys=(\"image\", \"label\"),\n",
    "        homepage=\"https://www.tensorflow.org/tutorials/load_data/images\",\n",
    "        citation=_CITATION)\n",
    "\n",
    "  def _split_generators(self, dl_manager):\n",
    "        \n",
    "    data_dir = tf.keras.utils.get_file(origin=_URL,\n",
    "                                       fname='flower_photos',\n",
    "                                       untar=True,\n",
    "                                       cache_dir = \"tensorflow_datasets\")\n",
    "    data_dir = pathlib.Path(data_dir)\n",
    "        \n",
    "    #path_download = dl_manager.download(_URL)\n",
    "    #ExPth = \"tensorflow_datasets\\downloads\\downl.tenso.org_examp_image_flowe_photoTFSs55Ear_4To2XDT2UOcd1b8b4KWLRk5acYPj5ZXZw.tgz\"\n",
    "    #path_extract = dl_manager.extract(ExPth)\n",
    "    \n",
    "    data_dir = pathlib.Path(\"tensorflow_datasets/datasets/flower_photos\")\n",
    "    image_count = len(list(data_dir.glob('*/*.jpg')))\n",
    "    print(image_count,\" images downloaded!\")\n",
    "\n",
    "    \n",
    "    batch_size = 32\n",
    "    img_height = 180\n",
    "    img_width = 180\n",
    "    \n",
    "    train_ds = tf.keras.utils.image_dataset_from_directory(\n",
    "      data_dir,\n",
    "      validation_split=0.2,\n",
    "      subset=\"training\",\n",
    "      seed=123,\n",
    "      image_size=(img_height, img_width),\n",
    "      batch_size=batch_size)\n",
    "    \n",
    "    val_ds = tf.keras.utils.image_dataset_from_directory(\n",
    "      data_dir,\n",
    "      validation_split=0.2,\n",
    "      subset=\"validation\",\n",
    "      seed=123,\n",
    "      image_size=(img_height, img_width),\n",
    "      batch_size=batch_size)\n",
    "    \n",
    "    return [train_ds,val_ds]\n",
    "\n",
    "  def _generate_examples(self, images_dir_path):\n",
    "    \"\"\"Generate flower images and labels given the image directory path.\n",
    "    Args:\n",
    "      images_dir_path: path to the directory where the images are stored.\n",
    "    Yields:\n",
    "      The image path and its corresponding label.\n",
    "    \"\"\"\n",
    "    for fname, fobj in images_dir_path:\n",
    "      if fname.endswith(\".jpg\"):\n",
    "        image_dir, image_file = os.path.split(fname)\n",
    "        d = os.path.basename(image_dir)\n",
    "        record = {\"image\": fobj, \"label\": d.lower()}\n",
    "        yield \"%s/%s\" % (d, image_file), record"
   ]
  },
  {
   "cell_type": "code",
   "execution_count": 6,
   "id": "14c32152",
   "metadata": {},
   "outputs": [],
   "source": [
    "ClassObject = TFFlowers()"
   ]
  },
  {
   "cell_type": "code",
   "execution_count": 7,
   "id": "ead92f13",
   "metadata": {},
   "outputs": [
    {
     "data": {
      "text/plain": [
       "tfds.core.DatasetInfo(\n",
       "    name='tf_flowers',\n",
       "    full_name='tf_flowers/3.0.1',\n",
       "    description=\"\"\"\n",
       "    A large set of images of flowers\n",
       "    \"\"\",\n",
       "    homepage='https://www.tensorflow.org/tutorials/load_data/images',\n",
       "    data_path='C:\\\\Users\\\\aleks\\\\tensorflow_datasets\\\\tf_flowers\\\\3.0.1',\n",
       "    download_size=Unknown size,\n",
       "    dataset_size=Unknown size,\n",
       "    features=FeaturesDict({\n",
       "        'image': Image(shape=(None, None, 3), dtype=tf.uint8),\n",
       "        'label': ClassLabel(shape=(), dtype=tf.int64, num_classes=5),\n",
       "    }),\n",
       "    supervised_keys=('image', 'label'),\n",
       "    disable_shuffling=False,\n",
       "    splits={\n",
       "    },\n",
       "    citation=\"\"\"@ONLINE {tfflowers,\n",
       "    author = \"The TensorFlow Team\",\n",
       "    title = \"Flowers\",\n",
       "    month = \"jan\",\n",
       "    year = \"2019\",\n",
       "    url = \"http://download.tensorflow.org/example_images/flower_photos.tgz\" }\"\"\",\n",
       ")"
      ]
     },
     "execution_count": 7,
     "metadata": {},
     "output_type": "execute_result"
    }
   ],
   "source": [
    "ClassObject._info()"
   ]
  },
  {
   "cell_type": "code",
   "execution_count": 8,
   "id": "062e5403",
   "metadata": {},
   "outputs": [],
   "source": [
    "import tensorflow_datasets.core.download.download_manager as dl_manager\n",
    "manager = dl_manager.DownloadManager(download_dir='tensorflow_datasets\\datasets')"
   ]
  },
  {
   "cell_type": "code",
   "execution_count": 9,
   "id": "726e2505",
   "metadata": {},
   "outputs": [
    {
     "name": "stdout",
     "output_type": "stream",
     "text": [
      "3670  images downloaded!\n",
      "Found 3670 files belonging to 5 classes.\n",
      "Using 2936 files for training.\n",
      "Found 3670 files belonging to 5 classes.\n",
      "Using 734 files for validation.\n"
     ]
    }
   ],
   "source": [
    "DataSets = ClassObject._split_generators(manager)"
   ]
  },
  {
   "cell_type": "code",
   "execution_count": 10,
   "id": "3ccd922a",
   "metadata": {},
   "outputs": [],
   "source": [
    "train_ds = DataSets[0]\n",
    "val_ds = DataSets[1]"
   ]
  },
  {
   "cell_type": "code",
   "execution_count": 11,
   "id": "c7e596f9",
   "metadata": {},
   "outputs": [
    {
     "name": "stdout",
     "output_type": "stream",
     "text": [
      "['daisy', 'dandelion', 'roses', 'sunflowers', 'tulips']\n"
     ]
    }
   ],
   "source": [
    "class_names = train_ds.class_names\n",
    "print(class_names)"
   ]
  },
  {
   "cell_type": "code",
   "execution_count": 12,
   "id": "0eb5e3ec",
   "metadata": {},
   "outputs": [],
   "source": [
    "normalization_layer = tf.keras.layers.Rescaling(1./255)"
   ]
  },
  {
   "cell_type": "code",
   "execution_count": 13,
   "id": "67db5ad8",
   "metadata": {},
   "outputs": [
    {
     "name": "stdout",
     "output_type": "stream",
     "text": [
      "0.0 1.0\n"
     ]
    }
   ],
   "source": [
    "import numpy as np\n",
    "normalized_ds = train_ds.map(lambda x, y: (normalization_layer(x), y))\n",
    "image_batch, labels_batch = next(iter(normalized_ds))\n",
    "first_image = image_batch[0]\n",
    "print(np.min(first_image), np.max(first_image))"
   ]
  },
  {
   "cell_type": "code",
   "execution_count": 14,
   "id": "9aa229f3",
   "metadata": {},
   "outputs": [],
   "source": [
    "num_classes = 5\n",
    "\n",
    "model = tf.keras.Sequential([\n",
    "  tf.keras.layers.Rescaling(1./255),\n",
    "  tf.keras.layers.Conv2D(32, 3, activation='relu'),\n",
    "  tf.keras.layers.MaxPooling2D(),\n",
    "  tf.keras.layers.Flatten(),\n",
    "  tf.keras.layers.Dense(128, activation='relu'),\n",
    "  tf.keras.layers.Dense(num_classes)\n",
    "])"
   ]
  },
  {
   "cell_type": "code",
   "execution_count": 15,
   "id": "3683e35f",
   "metadata": {},
   "outputs": [],
   "source": [
    "model.compile(\n",
    "  optimizer='adam',\n",
    "  loss=tf.losses.SparseCategoricalCrossentropy(from_logits=True),\n",
    "  metrics=['accuracy'])"
   ]
  },
  {
   "cell_type": "code",
   "execution_count": 16,
   "id": "d7b2c8e6",
   "metadata": {},
   "outputs": [
    {
     "name": "stdout",
     "output_type": "stream",
     "text": [
      "Epoch 1/10\n",
      "92/92 [==============================] - 46s 482ms/step - loss: 5.9174 - accuracy: 0.4138 - val_loss: 1.1637 - val_accuracy: 0.5422\n",
      "Epoch 2/10\n",
      "92/92 [==============================] - 44s 476ms/step - loss: 0.9798 - accuracy: 0.6270 - val_loss: 1.0749 - val_accuracy: 0.5886\n",
      "Epoch 3/10\n",
      "92/92 [==============================] - 44s 475ms/step - loss: 0.6236 - accuracy: 0.7922 - val_loss: 1.2911 - val_accuracy: 0.5395\n",
      "Epoch 4/10\n",
      "92/92 [==============================] - 43s 470ms/step - loss: 0.3448 - accuracy: 0.9050 - val_loss: 1.2459 - val_accuracy: 0.5763\n",
      "Epoch 5/10\n",
      "92/92 [==============================] - 43s 469ms/step - loss: 0.1889 - accuracy: 0.9584 - val_loss: 1.3185 - val_accuracy: 0.5613\n",
      "Epoch 6/10\n",
      "92/92 [==============================] - 43s 469ms/step - loss: 0.1085 - accuracy: 0.9785 - val_loss: 1.3286 - val_accuracy: 0.5586\n",
      "Epoch 7/10\n",
      "92/92 [==============================] - 44s 478ms/step - loss: 0.0514 - accuracy: 0.9932 - val_loss: 1.5393 - val_accuracy: 0.5640\n",
      "Epoch 8/10\n",
      "92/92 [==============================] - 44s 475ms/step - loss: 0.0268 - accuracy: 0.9969 - val_loss: 1.6322 - val_accuracy: 0.5477\n",
      "Epoch 9/10\n",
      "92/92 [==============================] - 44s 477ms/step - loss: 0.0165 - accuracy: 0.9993 - val_loss: 1.6414 - val_accuracy: 0.5749\n",
      "Epoch 10/10\n",
      "92/92 [==============================] - 43s 471ms/step - loss: 0.0106 - accuracy: 0.9993 - val_loss: 1.6953 - val_accuracy: 0.5627\n"
     ]
    },
    {
     "data": {
      "text/plain": [
       "<keras.callbacks.History at 0x2cd5d268730>"
      ]
     },
     "execution_count": 16,
     "metadata": {},
     "output_type": "execute_result"
    }
   ],
   "source": [
    "model.fit(\n",
    "  train_ds,\n",
    "  validation_data=val_ds,\n",
    "  epochs=10\n",
    ")"
   ]
  },
  {
   "cell_type": "code",
   "execution_count": null,
   "id": "229e1a78",
   "metadata": {},
   "outputs": [],
   "source": []
  }
 ],
 "metadata": {
  "kernelspec": {
   "display_name": "Python 3 (ipykernel)",
   "language": "python",
   "name": "python3"
  },
  "language_info": {
   "codemirror_mode": {
    "name": "ipython",
    "version": 3
   },
   "file_extension": ".py",
   "mimetype": "text/x-python",
   "name": "python",
   "nbconvert_exporter": "python",
   "pygments_lexer": "ipython3",
   "version": "3.8.10"
  }
 },
 "nbformat": 4,
 "nbformat_minor": 5
}
